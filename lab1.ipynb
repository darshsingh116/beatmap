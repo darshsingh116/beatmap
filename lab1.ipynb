{
 "cells": [
  {
   "cell_type": "code",
   "execution_count": 1,
   "metadata": {},
   "outputs": [
    {
     "name": "stdout",
     "output_type": "stream",
     "text": [
      "Nash equilibria:\n",
      "Player 1: C, Player 2: C with payoffs (-3, -3)\n"
     ]
    }
   ],
   "source": [
    "# Payoff matrix\n",
    "payoffs = {\n",
    "    ('C', 'C'): (-3, -3),\n",
    "    ('C', 'D'): (0, -4),\n",
    "    ('D', 'C'): (-4, 0),\n",
    "    ('D', 'D'): (-1, -1)\n",
    "}\n",
    "\n",
    "# Possible strategies\n",
    "strategies = ['C', 'D']\n",
    "\n",
    "# Determine the best responses\n",
    "def best_response(player, opponent_strategy, payoffs):\n",
    "    if player == 1:\n",
    "        # Player 1's best response\n",
    "        if payoffs[('C', opponent_strategy)][0] > payoffs[('D', opponent_strategy)][0]:\n",
    "            return 'C'\n",
    "        else:\n",
    "            return 'D'\n",
    "    elif player == 2:\n",
    "        # Player 2's best response\n",
    "        if payoffs[(opponent_strategy, 'C')][1] > payoffs[(opponent_strategy, 'D')][1]:\n",
    "            return 'C'\n",
    "        else:\n",
    "            return 'D'\n",
    "\n",
    "# Find Nash equilibria\n",
    "nash_equilibria = []\n",
    "for s1 in strategies:\n",
    "    for s2 in strategies:\n",
    "        if best_response(1, s2, payoffs) == s1 and best_response(2, s1, payoffs) == s2:\n",
    "            nash_equilibria.append((s1, s2))\n",
    "\n",
    "# Output the Nash equilibria\n",
    "print(\"Nash equilibria:\")\n",
    "for eq in nash_equilibria:\n",
    "    print(f\"Player 1: {eq[0]}, Player 2: {eq[1]} with payoffs {payoffs[eq]}\")"
   ]
  },
  {
   "cell_type": "code",
   "execution_count": 2,
   "metadata": {},
   "outputs": [],
   "source": [
    "import matplotlib.pyplot as plt\n",
    "import numpy as np"
   ]
  },
  {
   "cell_type": "code",
   "execution_count": 4,
   "metadata": {},
   "outputs": [
    {
     "data": {
      "image/png": "[encoded data removed]",
      "text/plain": [
       "<Figure size 640x480 with 1 Axes>"
      ]
     },
     "metadata": {},
     "output_type": "display_data"
    }
   ],
   "source": [
    "# Create a figure and axis\n",
    "fig, ax = plt.subplots()\n",
    "# Set the axis labels\n",
    "ax.set_xticks(np.arange(len(strategies)))\n",
    "ax.set_yticks(np.arange(len(strategies)))\n",
    "ax.set_xticklabels(strategies)\n",
    "ax.set_yticklabels(strategies)\n",
    "ax.set_xlabel(\"Player 1's Strategy\")\n",
    "ax.set_ylabel(\"Player 2's Strategy\")\n",
    "\n",
    "# Display payoffs in the grid\n",
    "for i in range(len(strategies)):\n",
    "    for j in range(len(strategies)):\n",
    "        s1, s2 = strategies[i], strategies[j]\n",
    "        payoff = payoffs[(s1, s2)]\n",
    "        ax.text(j, i, f\"{payoff[0]}, {payoff[1]}\", ha='center', va='center', color='black')\n",
    "\n",
    "# Highlight Nash equilibria\n",
    "for eq in nash_equilibria:\n",
    "    i = strategies.index(eq[0])\n",
    "    j = strategies.index(eq[1])\n",
    "    ax.add_patch(plt.Rectangle((j - 0.5, i - 0.5), 1, 1, fill=False, edgecolor='red', linewidth=2))\n",
    "\n",
    "# Display the grid\n",
    "ax.set_xticks(np.arange(-0.5, len(strategies), 1), minor=True)\n",
    "ax.set_yticks(np.arange(-0.5, len(strategies), 1), minor=True)\n",
    "ax.grid(which='minor', color='black', linestyle='-', linewidth=2)\n",
    "\n",
    "# Show the plot\n",
    "plt.show()"
   ]
  }
 ],
 "metadata": {
  "kernelspec": {
   "display_name": "base",
   "language": "python",
   "name": "python3"
  },
  "language_info": {
   "codemirror_mode": {
    "name": "ipython",
    "version": 3
   },
   "file_extension": ".py",
   "mimetype": "text/x-python",
   "name": "python",
   "nbconvert_exporter": "python",
   "pygments_lexer": "ipython3",
   "version": "3.12.4"
  }
 },
 "nbformat": 4,
 "nbformat_minor": 2
}
