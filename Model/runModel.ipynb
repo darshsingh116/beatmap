{
 "cells": [
  {
   "cell_type": "code",
   "execution_count": 1,
   "metadata": {},
   "outputs": [],
   "source": [
    "from dataReadFromDisk import *"
   ]
  },
  {
   "cell_type": "code",
   "execution_count": 2,
   "metadata": {},
   "outputs": [
    {
     "name": "stdout",
     "output_type": "stream",
     "text": [
      "DataFrame loaded from: E:\\\\Notebooks\\\\osu\\processed-metadata\\processed-metadata.csv\n"
     ]
    }
   ],
   "source": [
    "df = load_df_from_csv()"
   ]
  },
  {
   "cell_type": "code",
   "execution_count": 3,
   "metadata": {},
   "outputs": [],
   "source": [
    "df = df[:50]"
   ]
  },
  {
   "cell_type": "code",
   "execution_count": 4,
   "metadata": {},
   "outputs": [],
   "source": [
    "dataset,num_of_batches = process_audio_and_beatmap_for_model_all_and_save(df)"
   ]
  },
  {
   "cell_type": "code",
   "execution_count": 5,
   "metadata": {},
   "outputs": [
    {
     "data": {
      "text/plain": [
       "50"
      ]
     },
     "execution_count": 5,
     "metadata": {},
     "output_type": "execute_result"
    }
   ],
   "source": [
    "num_of_batches"
   ]
  },
  {
   "cell_type": "code",
   "execution_count": 6,
   "metadata": {},
   "outputs": [],
   "source": [
    "# for input_data, output_data in dataset.take(1):\n",
    "#     print(\"First input:\")\n",
    "#     print(input_data.numpy()[0][0])\n",
    "#     print(\"First output:\")\n",
    "#     print(output_data.numpy()[0][0])"
   ]
  },
  {
   "cell_type": "code",
   "execution_count": 7,
   "metadata": {},
   "outputs": [],
   "source": [
    "# import numpy as np\n",
    "# import tensorflow as tf\n",
    "\n",
    "# model = tf.keras.Sequential([\n",
    "#     tf.keras.layers.Input(shape=(None, 155)),  # Input layer for variable length sequences with 155 features\n",
    "#     tf.keras.layers.Bidirectional(tf.keras.layers.LSTM(256 , return_sequences=True)),\n",
    "#     tf.keras.layers.Bidirectional(tf.keras.layers.LSTM(256 , return_sequences=True)),\n",
    "#     # tf.keras.layers.Dense(64, activation='relu'),  # Optional dense layer\n",
    "#     tf.keras.layers.Dense(35)  # Output layer, size 35 to match your output data dimension\n",
    "# ])\n",
    "\n",
    "# model.compile(optimizer='adam', loss=tf.keras.losses.Huber())\n",
    "\n",
    "# # Training the model\n",
    "# model.fit(dataset, epochs=10, steps_per_epoch=num_of_batches) # instead of 50 make it number of songs in final processed data"
   ]
  },
  {
   "cell_type": "code",
   "execution_count": 8,
   "metadata": {},
   "outputs": [],
   "source": [
    "# import tensorflow as tf\n",
    "\n",
    "# # Check if GPU is available\n",
    "# gpus = tf.config.experimental.list_physical_devices()\n",
    "# gpus"
   ]
  },
  {
   "cell_type": "code",
   "execution_count": 9,
   "metadata": {},
   "outputs": [],
   "source": [
    "# print(tf.config.list_physical_devices('GPU'))"
   ]
  },
  {
   "cell_type": "code",
   "execution_count": 10,
   "metadata": {},
   "outputs": [],
   "source": [
    "# tf.__version__"
   ]
  },
  {
   "cell_type": "code",
   "execution_count": 15,
   "metadata": {},
   "outputs": [
    {
     "name": "stdout",
     "output_type": "stream",
     "text": [
      "Num GPUs Available:  1\n",
      "Epoch 1/50\n",
      "50/50 [==============================] - 26s 341ms/step - loss: nan - accuracy: 0.6933\n",
      "Epoch 2/50\n",
      "WARNING:tensorflow:Your input ran out of data; interrupting training. Make sure that your dataset or generator can generate at least `steps_per_epoch * epochs` batches (in this case, 2500 batches). You may need to use the repeat() function when building your dataset.\n",
      "50/50 [==============================] - 0s 680us/step - loss: nan - accuracy: 0.6933\n"
     ]
    }
   ],
   "source": [
    "import tensorflow as tf\n",
    "\n",
    "# # Ensure TensorFlow is set up to use the GPU\n",
    "# physical_devices = tf.config.list_physical_devices('GPU')\n",
    "# if len(physical_devices) > 0:\n",
    "#     tf.config.experimental.set_memory_growth(physical_devices[0], True)\n",
    "#     print(\"GPU is available and configured.\")\n",
    "# else:\n",
    "#     print(\"GPU is not available.\")\n",
    "\n",
    "# Check for GPU availability\n",
    "print(\"Num GPUs Available: \", len(tf.config.list_physical_devices('GPU')))\n",
    "\n",
    "# Define the model\n",
    "model = tf.keras.Sequential([\n",
    "    tf.keras.layers.Input(shape=(None, 155)),  # Input layer for variable-length sequences with 155 features\n",
    "    tf.keras.layers.Bidirectional(tf.keras.layers.LSTM(256, return_sequences=True)),\n",
    "    tf.keras.layers.Bidirectional(tf.keras.layers.LSTM(256, return_sequences=True)),\n",
    "    tf.keras.layers.Dense(64, activation='sigmoid'),  # Optional dense layer\n",
    "    tf.keras.layers.Dense(35)  # Output layer, size 35 to match your output data dimension\n",
    "])\n",
    "\n",
    "# Compile the model\n",
    "model.compile(loss='binary_crossentropy', optimizer='sgd', metrics=['accuracy'])\n",
    "\n",
    "# Assuming `dataset` is already prepared and `num_of_batches` is defined\n",
    "# Training the model\n",
    "\n",
    "with tf.device('/gpu:0'):\n",
    "    model.fit(dataset, epochs=50, steps_per_epoch=num_of_batches)\n",
    "# After running, you can monitor GPU usage using `nvidia-smi` from the command line\n"
   ]
  },
  {
   "cell_type": "code",
   "execution_count": null,
   "metadata": {},
   "outputs": [],
   "source": []
  }
 ],
 "metadata": {
  "kernelspec": {
   "display_name": "base",
   "language": "python",
   "name": "python3"
  },
  "language_info": {
   "codemirror_mode": {
    "name": "ipython",
    "version": 3
   },
   "file_extension": ".py",
   "mimetype": "text/x-python",
   "name": "python",
   "nbconvert_exporter": "python",
   "pygments_lexer": "ipython3",
   "version": "3.10.14"
  }
 },
 "nbformat": 4,
 "nbformat_minor": 2
}
