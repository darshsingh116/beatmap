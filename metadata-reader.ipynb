{
 "cells": [
  {
   "cell_type": "code",
   "execution_count": 144,
   "metadata": {},
   "outputs": [],
   "source": [
    "from dotenv import load_dotenv\n",
    "load_dotenv()\n",
    "archive_path = os.getenv('ARCHIVE_PATH')"
   ]
  },
  {
   "cell_type": "code",
   "execution_count": 145,
   "metadata": {},
   "outputs": [],
   "source": [
    "import pandas as pd\n",
    "df=pd.read_csv(\"metadata.csv\")\n",
    "df = df[(df[\"difficultyrating\"]>5) & (df[\"difficultyrating\"]<5.001) & (df[\"split\"]==\"train\")]"
   ]
  },
  {
   "cell_type": "markdown",
   "metadata": {},
   "source": [
    "# Getting audio files"
   ]
  },
  {
   "cell_type": "code",
   "execution_count": 174,
   "metadata": {},
   "outputs": [
    {
     "data": {
      "text/html": [
       "<div>\n",
       "<style scoped>\n",
       "    .dataframe tbody tr th:only-of-type {\n",
       "        vertical-align: middle;\n",
       "    }\n",
       "\n",
       "    .dataframe tbody tr th {\n",
       "        vertical-align: top;\n",
       "    }\n",
       "\n",
       "    .dataframe thead th {\n",
       "        text-align: right;\n",
       "    }\n",
       "</style>\n",
       "<table border=\"1\" class=\"dataframe\">\n",
       "  <thead>\n",
       "    <tr style=\"text-align: right;\">\n",
       "      <th></th>\n",
       "      <th>audio</th>\n",
       "      <th>split</th>\n",
       "      <th>folder</th>\n",
       "      <th>beatmapset_id</th>\n",
       "      <th>beatmap_id</th>\n",
       "      <th>approved</th>\n",
       "      <th>total_length</th>\n",
       "      <th>hit_length</th>\n",
       "      <th>version</th>\n",
       "      <th>file_md5</th>\n",
       "      <th>...</th>\n",
       "      <th>video</th>\n",
       "      <th>download_unavailable</th>\n",
       "      <th>audio_unavailable</th>\n",
       "      <th>playcount</th>\n",
       "      <th>passcount</th>\n",
       "      <th>packs</th>\n",
       "      <th>max_combo</th>\n",
       "      <th>diff_aim</th>\n",
       "      <th>diff_speed</th>\n",
       "      <th>difficultyrating</th>\n",
       "    </tr>\n",
       "  </thead>\n",
       "  <tbody>\n",
       "    <tr>\n",
       "      <th>3561</th>\n",
       "      <td>0883698b6f6d85d3f11b74c0ed8c0b51</td>\n",
       "      <td>train</td>\n",
       "      <td>0297cae08327285a8abb3926aa4c1c9d</td>\n",
       "      <td>772288</td>\n",
       "      <td>1689770</td>\n",
       "      <td>1</td>\n",
       "      <td>215</td>\n",
       "      <td>183</td>\n",
       "      <td>502 - ED BETA</td>\n",
       "      <td>0883698b6f6d85d3f11b74c0ed8c0b51</td>\n",
       "      <td>...</td>\n",
       "      <td>0</td>\n",
       "      <td>0</td>\n",
       "      <td>0</td>\n",
       "      <td>124407</td>\n",
       "      <td>12816</td>\n",
       "      <td>S854</td>\n",
       "      <td>1037.0</td>\n",
       "      <td>2.51622</td>\n",
       "      <td>2.45293</td>\n",
       "      <td>5.00079</td>\n",
       "    </tr>\n",
       "  </tbody>\n",
       "</table>\n",
       "<p>1 rows × 45 columns</p>\n",
       "</div>"
      ],
      "text/plain": [
       "                                 audio  split  \\\n",
       "3561  0883698b6f6d85d3f11b74c0ed8c0b51  train   \n",
       "\n",
       "                                folder  beatmapset_id  beatmap_id  approved  \\\n",
       "3561  0297cae08327285a8abb3926aa4c1c9d         772288     1689770         1   \n",
       "\n",
       "      total_length  hit_length        version  \\\n",
       "3561           215         183  502 - ED BETA   \n",
       "\n",
       "                              file_md5  ...  video  download_unavailable  \\\n",
       "3561  0883698b6f6d85d3f11b74c0ed8c0b51  ...      0                     0   \n",
       "\n",
       "      audio_unavailable  playcount  passcount  packs  max_combo  diff_aim  \\\n",
       "3561                  0     124407      12816   S854     1037.0   2.51622   \n",
       "\n",
       "     diff_speed difficultyrating  \n",
       "3561    2.45293          5.00079  \n",
       "\n",
       "[1 rows x 45 columns]"
      ]
     },
     "execution_count": 174,
     "metadata": {},
     "output_type": "execute_result"
    }
   ],
   "source": [
    "df[df[\"bpm\"]==175]"
   ]
  },
  {
   "cell_type": "code",
   "execution_count": 147,
   "metadata": {},
   "outputs": [
    {
     "name": "stdout",
     "output_type": "stream",
     "text": [
      "Saved: e:\\Notebooks\\osu\\processed-audio\\0883698b6f6d85d3f11b74c0ed8c0b51.npy\n",
      "Saved: e:\\Notebooks\\osu\\processed-audio\\0d75a7f1fec868a608197c474a11e0ac.npy\n",
      "Saved: e:\\Notebooks\\osu\\processed-audio\\20a24fcd09c5cb92aa9180dc0c6e460b.npy\n",
      "Saved: e:\\Notebooks\\osu\\processed-audio\\28922f67893fbdfb0cef31eb4e42f6b5.npy\n",
      "Saved: e:\\Notebooks\\osu\\processed-audio\\6f75e8222d11dcc7d1367bfbd7cae8bd.npy\n",
      "Saved: e:\\Notebooks\\osu\\processed-audio\\8301cf701218c8bba5b23d617994065c.npy\n",
      "Saved: e:\\Notebooks\\osu\\processed-audio\\83b97d3f941df6a2837d61f66780d51c.npy\n",
      "Saved: e:\\Notebooks\\osu\\processed-audio\\a1984e69a8f4fb381f823ca9c8f9b318.npy\n",
      "Saved: e:\\Notebooks\\osu\\processed-audio\\a7927dbd90295d1153a9788890ef323a.npy\n",
      "Saved: e:\\Notebooks\\osu\\processed-audio\\bb46d0886e2c00cf884fb818f22daef1.npy\n",
      "Saved: e:\\Notebooks\\osu\\processed-audio\\c5642fe1e75dd255eddcd56351a47e4c.npy\n",
      "Saved: e:\\Notebooks\\osu\\processed-audio\\c957ae44927d767de49d3a8066e0e629.npy\n",
      "Saved: e:\\Notebooks\\osu\\processed-audio\\fc96a4d0c9bcb52cba027a7f6cfe115f.npy\n"
     ]
    }
   ],
   "source": [
    "from preprocessaudio import preprocess_and_save_audio\n",
    "preprocess_and_save_audio(df)"
   ]
  },
  {
   "cell_type": "code",
   "execution_count": 148,
   "metadata": {},
   "outputs": [],
   "source": [
    "from beatmap import OsuBeatmap,parse_osu_file\n",
    "import os\n",
    "from dotenv import load_dotenv\n",
    "load_dotenv()\n",
    "archive_path = os.getenv('ARCHIVE_PATH')\n",
    "\n",
    "def load_osu_files_from_df(df):\n",
    "    beatmaps = []\n",
    "    \n",
    "    for index, row in df.iterrows():\n",
    "        # Construct the osu! file path\n",
    "        file_path = os.path.join(archive_path,\"train\", row['folder'], f\"{row['audio']}.osu\")\n",
    "        \n",
    "        # Check if the file exists before parsing\n",
    "        if os.path.exists(file_path):\n",
    "            beatmap = parse_osu_file(file_path)\n",
    "            beatmaps.append(beatmap)\n",
    "        else:\n",
    "            print(f\"File not found: {file_path}\")\n",
    "    \n",
    "    return beatmaps\n",
    "\n"
   ]
  },
  {
   "cell_type": "code",
   "execution_count": 149,
   "metadata": {},
   "outputs": [
    {
     "name": "stdout",
     "output_type": "stream",
     "text": [
      "4.0\n",
      "5.0\n",
      "4.2\n",
      "5.0\n",
      "5.0\n",
      "4.0\n",
      "4.0\n",
      "3.6\n",
      "4.0\n",
      "3.5\n",
      "5.0\n",
      "4.5\n",
      "4.0\n"
     ]
    }
   ],
   "source": [
    "# Assuming df is your DataFrame loaded from your dataset\n",
    "beatmaps = load_osu_files_from_df(df)\n",
    "\n",
    "# beatmaps[0].bpm\n",
    "for b in beatmaps:\n",
    "    print(b.diff_size)\n"
   ]
  },
  {
   "cell_type": "code",
   "execution_count": 150,
   "metadata": {},
   "outputs": [],
   "source": [
    "from audio import load_mfcc_data_from_npy_folder\n",
    "\n",
    "# Example usage\n",
    "folder_path = 'processed-audio'\n",
    "mfcc_data = load_mfcc_data_from_npy_folder(folder_path)\n"
   ]
  },
  {
   "cell_type": "code",
   "execution_count": 172,
   "metadata": {},
   "outputs": [
    {
     "name": "stdout",
     "output_type": "stream",
     "text": [
      "Number of songs: 13\n",
      "Shape of chunks for the first song: (10, 13, 2205)\n",
      "17\n"
     ]
    }
   ],
   "source": [
    "from audio import *\n",
    "# Assuming mfcc_data is already loaded as a list of numpy arrays\n",
    "songs_in_form_of_chunks = create_overlapping_chunks(mfcc_data)\n",
    "\n",
    "# Print the shape of the chunks for the first song to verify\n",
    "if songs_in_form_of_chunks:\n",
    "    print(\"Number of songs:\", len(songs_in_form_of_chunks))\n",
    "    print(\"Shape of chunks for the first song:\", songs_in_form_of_chunks[1].shape)\n",
    "    print(len(songs_in_form_of_chunks[0]))\n",
    "else:\n",
    "    print(\"No chunks created.\")\n"
   ]
  }
 ],
 "metadata": {
  "kernelspec": {
   "display_name": "base",
   "language": "python",
   "name": "python3"
  },
  "language_info": {
   "codemirror_mode": {
    "name": "ipython",
    "version": 3
   },
   "file_extension": ".py",
   "mimetype": "text/x-python",
   "name": "python",
   "nbconvert_exporter": "python",
   "pygments_lexer": "ipython3",
   "version": "3.12.4"
  }
 },
 "nbformat": 4,
 "nbformat_minor": 2
}
