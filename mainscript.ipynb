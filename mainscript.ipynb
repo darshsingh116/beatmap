{
 "cells": [
  {
   "cell_type": "code",
   "execution_count": 1,
   "metadata": {},
   "outputs": [
    {
     "name": "stdout",
     "output_type": "stream",
     "text": [
      "[ 9.2640139e-06 -2.1315948e-06 -1.2969547e-06 ... -4.3512017e-07\n",
      "  2.2024227e-07  1.5556145e-06]\n",
      "22050\n",
      "Saved: e:\\Notebooks\\osu\\processed-audio\\c367ac169ef7f204e8ee672c0bddcfbc-a.npy\n"
     ]
    }
   ],
   "source": [
    "from brewData import brew\n",
    "\n",
    "brew()"
   ]
  }
 ],
 "metadata": {
  "kernelspec": {
   "display_name": "base",
   "language": "python",
   "name": "python3"
  },
  "language_info": {
   "codemirror_mode": {
    "name": "ipython",
    "version": 3
   },
   "file_extension": ".py",
   "mimetype": "text/x-python",
   "name": "python",
   "nbconvert_exporter": "python",
   "pygments_lexer": "ipython3",
   "version": "3.12.4"
  }
 },
 "nbformat": 4,
 "nbformat_minor": 2
}
