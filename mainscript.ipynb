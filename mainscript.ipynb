{
 "cells": [
  {
   "cell_type": "markdown",
   "metadata": {},
   "source": [
    "# GENERATE DATA"
   ]
  },
  {
   "cell_type": "code",
   "execution_count": 1,
   "metadata": {},
   "outputs": [
    {
     "name": "stdout",
     "output_type": "stream",
     "text": [
      "create_chunks_from_mfcc\n",
      "476\n",
      "Elapsed time to preprocess audio: 10.15 seconds\n",
      "147.05881904153296\n",
      "588.235294117647\n",
      "2.2\n",
      "['2140', '-142.857142857143', '4', '1', '1', '35', '0', '0']\n",
      "0.6999999999999993\n",
      "38.4999988250733\n",
      "Processed 1 files\n",
      "DataFrame saved as a CSV at: processed-metadata\\processed-metadata.csv\n",
      "Total errors encountered: 0\n",
      "Elapsed time to preprocess beatmaps: 0.10 seconds\n"
     ]
    }
   ],
   "source": [
    "from brewData import brew\n",
    "\n",
    "brew()"
   ]
  },
  {
   "cell_type": "markdown",
   "metadata": {},
   "source": [
    "# MAKE OSU BACK FROM DATA"
   ]
  },
  {
   "cell_type": "code",
   "execution_count": null,
   "metadata": {},
   "outputs": [],
   "source": [
    "from makeBeatmap import *\n",
    "import pandas as pd\n",
    "\n",
    "# Load the CSV data from the specified path\n",
    "csv_file_path = os.path.join(\"processed-metadata\", \"processed-metadata.csv\")\n",
    "metadata_df = pd.read_csv(csv_file_path)\n",
    "\n",
    "# Display the first few rows of the DataFrame to verify the data\n",
    "# print(metadata_df)\n",
    "\n",
    "# timingpoints = process_timing_data(data)\n",
    "\n",
    "metadata_df=metadata_df[0:1]\n",
    "load_and_print_npy_data(metadata_df)\n",
    "\n"
   ]
  }
 ],
 "metadata": {
  "kernelspec": {
   "display_name": "base",
   "language": "python",
   "name": "python3"
  },
  "language_info": {
   "codemirror_mode": {
    "name": "ipython",
    "version": 3
   },
   "file_extension": ".py",
   "mimetype": "text/x-python",
   "name": "python",
   "nbconvert_exporter": "python",
   "pygments_lexer": "ipython3",
   "version": "3.12.4"
  }
 },
 "nbformat": 4,
 "nbformat_minor": 2
}
