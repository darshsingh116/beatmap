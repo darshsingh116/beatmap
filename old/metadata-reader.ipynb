{
 "cells": [
  {
   "cell_type": "code",
   "execution_count": 1,
   "metadata": {},
   "outputs": [],
   "source": [
    "from dotenv import load_dotenv\n",
    "import os\n",
    "load_dotenv()\n",
    "archive_path = os.getenv('ARCHIVE_PATH')"
   ]
  },
  {
   "cell_type": "code",
   "execution_count": 28,
   "metadata": {},
   "outputs": [],
   "source": [
    "import pandas as pd\n",
    "df=pd.read_csv(\"metadata.csv\")\n",
    "# df = df[(df[\"mode\"] == 0) & (df[\"difficultyrating\"]>4.8) & (df[\"difficultyrating\"]< 6) & (df[\"split\"]==\"train\")]\n",
    "df = df[(df['total_length'] < 600)]\n",
    "df_sorted = df.sort_values(by='total_length', ascending=False)\n"
   ]
  },
  {
   "cell_type": "code",
   "execution_count": 22,
   "metadata": {},
   "outputs": [
    {
     "name": "stdout",
     "output_type": "stream",
     "text": [
      "3178\n",
      "2151\n",
      "1408\n",
      "1403\n",
      "1298\n",
      "1221\n",
      "1221\n",
      "1085\n",
      "1053\n",
      "1024\n",
      "1016\n",
      "995\n",
      "966\n",
      "934\n",
      "906\n",
      "847\n",
      "834\n",
      "827\n",
      "827\n",
      "823\n",
      "808\n",
      "797\n",
      "793\n",
      "785\n",
      "785\n",
      "776\n",
      "765\n",
      "737\n",
      "725\n",
      "725\n",
      "711\n",
      "709\n",
      "706\n",
      "700\n",
      "694\n",
      "688\n",
      "681\n",
      "668\n",
      "665\n",
      "657\n",
      "655\n",
      "654\n",
      "644\n",
      "630\n",
      "626\n",
      "616\n",
      "604\n",
      "604\n",
      "603\n",
      "599\n",
      "594\n",
      "593\n",
      "589\n",
      "585\n",
      "569\n",
      "564\n",
      "555\n",
      "532\n",
      "530\n",
      "528\n",
      "528\n",
      "520\n",
      "513\n",
      "504\n",
      "489\n",
      "486\n",
      "480\n",
      "475\n",
      "473\n",
      "472\n",
      "472\n",
      "471\n",
      "469\n",
      "469\n",
      "466\n",
      "465\n",
      "465\n",
      "462\n",
      "461\n",
      "460\n",
      "459\n",
      "458\n",
      "451\n",
      "450\n",
      "450\n",
      "450\n",
      "448\n",
      "447\n",
      "444\n",
      "444\n",
      "442\n",
      "442\n",
      "440\n",
      "434\n",
      "431\n",
      "429\n",
      "427\n",
      "424\n",
      "423\n",
      "420\n"
     ]
    }
   ],
   "source": [
    "ndf = df_sorted[:50]# Print the sorted DataFrame\n",
    "for index,row in ndf.iterrows():\n",
    "    print(row['total_length'])"
   ]
  },
  {
   "cell_type": "markdown",
   "metadata": {},
   "source": [
    "# Getting audio files"
   ]
  },
  {
   "cell_type": "markdown",
   "metadata": {},
   "source": [
    "mode 0 is osu"
   ]
  },
  {
   "cell_type": "code",
   "execution_count": null,
   "metadata": {},
   "outputs": [],
   "source": [
    "df.iloc[64802]"
   ]
  },
  {
   "cell_type": "code",
   "execution_count": null,
   "metadata": {},
   "outputs": [],
   "source": [
    "df.iloc[10]"
   ]
  },
  {
   "cell_type": "code",
   "execution_count": 4,
   "metadata": {},
   "outputs": [],
   "source": [
    "# from preprocessaudio import preprocess_and_save_audio\n",
    "# preprocess_and_save_audio(df)"
   ]
  },
  {
   "cell_type": "code",
   "execution_count": 5,
   "metadata": {},
   "outputs": [],
   "source": [
    "from beatmap import *\n",
    "import os\n",
    "from dotenv import load_dotenv\n",
    "load_dotenv()\n",
    "archive_path = os.getenv('ARCHIVE_PATH')\n",
    "\n",
    "def load_osu_files_from_df(df):\n",
    "    beatmaps = []\n",
    "    \n",
    "    for index, row in df.iterrows():\n",
    "        # Construct the osu! file path\n",
    "        file_path = os.path.join(archive_path,\"train\", row['folder'], f\"{row['audio']}.osu\")\n",
    "        \n",
    "        # Check if the file exists before parsing\n",
    "        if os.path.exists(file_path):\n",
    "            beatmap = parse_osu_file(file_path)\n",
    "            beatmaps.append(beatmap)\n",
    "        else:\n",
    "            print(f\"File not found: {file_path}\")\n",
    "    \n",
    "    return beatmaps\n",
    "\n"
   ]
  },
  {
   "cell_type": "code",
   "execution_count": null,
   "metadata": {},
   "outputs": [],
   "source": [
    "# Assuming df is your DataFrame loaded from your dataset\n",
    "beatmaps = load_osu_files_from_df(df)\n",
    "\n",
    "# beatmaps[0].hit_objects\n",
    "for h in beatmaps[0].hit_objects:\n",
    "    print(h)\n",
    "    t = h[2]\n",
    "    m = t//60000\n",
    "    s = (t - (m*60000))\n",
    "    ms = s%1000\n",
    "    s=s//1000\n",
    "    print(f\"{m}:{s}:{ms}\")\n",
    "    \n"
   ]
  },
  {
   "cell_type": "code",
   "execution_count": 7,
   "metadata": {},
   "outputs": [],
   "source": [
    "from audio import load_mfcc_data_from_npy_folder\n",
    "\n",
    "# Example usage\n",
    "folder_path = 'processed-audio'\n",
    "mfcc_data = load_mfcc_data_from_npy_folder(folder_path)\n"
   ]
  },
  {
   "cell_type": "code",
   "execution_count": null,
   "metadata": {},
   "outputs": [],
   "source": [
    "from audio import *\n",
    "# Assuming mfcc_data is already loaded as a list of numpy arrays\n",
    "songs_in_form_of_chunks = create_overlapping_chunks(mfcc_data)\n",
    "\n",
    "# Print the shape of the chunks for the first song to verify\n",
    "if songs_in_form_of_chunks:\n",
    "    print(\"Number of songs:\", len(songs_in_form_of_chunks))\n",
    "    # print(songs_in_form_of_chunks)\n",
    "    print(\"Shape of chunks for the first song:\", songs_in_form_of_chunks[1].shape)\n",
    "    print(len(songs_in_form_of_chunks[0]))\n",
    "else:\n",
    "    print(\"No chunks created.\")\n"
   ]
  },
  {
   "cell_type": "code",
   "execution_count": null,
   "metadata": {},
   "outputs": [],
   "source": [
    "len(mfcc_data)\n",
    "print(mfcc_data[0].shape)"
   ]
  }
 ],
 "metadata": {
  "kernelspec": {
   "display_name": "base",
   "language": "python",
   "name": "python3"
  },
  "language_info": {
   "codemirror_mode": {
    "name": "ipython",
    "version": 3
   },
   "file_extension": ".py",
   "mimetype": "text/x-python",
   "name": "python",
   "nbconvert_exporter": "python",
   "pygments_lexer": "ipython3",
   "version": "3.12.4"
  }
 },
 "nbformat": 4,
 "nbformat_minor": 2
}
