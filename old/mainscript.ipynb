{
 "cells": [
  {
   "cell_type": "markdown",
   "metadata": {},
   "source": [
    "# GENERATE DATA"
   ]
  },
  {
   "cell_type": "code",
   "execution_count": 1,
   "metadata": {},
   "outputs": [
    {
     "name": "stdout",
     "output_type": "stream",
     "text": [
      "Elapsed time to preprocess audio: 22.98 seconds\n",
      "Processed 1 files\n",
      "Processed 2 files\n",
      "Processed 3 files\n",
      "Processed 4 files\n",
      "Processed 5 files\n",
      "Processed 6 files\n",
      "Processed 7 files\n",
      "Processed 8 files\n",
      "Processed 9 files\n",
      "Processed 10 files\n",
      "Processed 11 files\n",
      "Processed 12 files\n",
      "Processed 13 files\n",
      "Processed 14 files\n",
      "Processed 15 files\n",
      "Processed 16 files\n",
      "Processed 17 files\n",
      "Processed 18 files\n",
      "Processed 19 files\n",
      "Processed 20 files\n",
      "DataFrame saved as a CSV at: processed-metadata\\processed-metadata.csv\n",
      "Total errors encountered: 0\n",
      "Elapsed time to preprocess beatmaps: 0.82 seconds\n"
     ]
    }
   ],
   "source": [
    "from brewData import brew\n",
    "\n",
    "brew()"
   ]
  },
  {
   "cell_type": "markdown",
   "metadata": {},
   "source": [
    "# MAKE OSU BACK FROM DATA"
   ]
  },
  {
   "cell_type": "code",
   "execution_count": null,
   "metadata": {},
   "outputs": [],
   "source": [
    "from Model.makeBeatmap import *\n",
    "import pandas as pd\n",
    "\n",
    "# Load the CSV data from the specified path\n",
    "csv_file_path = os.path.join(\"processed-metadata\", \"processed-metadata.csv\")\n",
    "metadata_df = pd.read_csv(csv_file_path)\n",
    "\n",
    "# Display the first few rows of the DataFrame to verify the data\n",
    "# print(metadata_df)\n",
    "\n",
    "# timingpoints = process_timing_data(data)\n",
    "\n",
    "metadata_df=metadata_df[0:1]\n",
    "load_and_print_npy_data(metadata_df)\n",
    "\n"
   ]
  }
 ],
 "metadata": {
  "kernelspec": {
   "display_name": "base",
   "language": "python",
   "name": "python3"
  },
  "language_info": {
   "codemirror_mode": {
    "name": "ipython",
    "version": 3
   },
   "file_extension": ".py",
   "mimetype": "text/x-python",
   "name": "python",
   "nbconvert_exporter": "python",
   "pygments_lexer": "ipython3",
   "version": "3.10.14"
  }
 },
 "nbformat": 4,
 "nbformat_minor": 2
}
