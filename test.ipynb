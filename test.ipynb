{
 "cells": [
  {
   "cell_type": "code",
   "execution_count": 5,
   "metadata": {},
   "outputs": [
    {
     "data": {
      "text/plain": [
       "270205"
      ]
     },
     "execution_count": 5,
     "metadata": {},
     "output_type": "execute_result"
    }
   ],
   "source": [
    "import os\n",
    "import librosa\n",
    "import numpy as np\n",
    "import pandas as pd\n",
    "\n",
    "def preprocess_and_save_audio(folder):\n",
    "    # Directory where processed files will be saved\n",
    "    processed_dir = os.path.join(os.getcwd(), 'processed-audio')\n",
    "    \n",
    "    # Check if the directory exists, if not, create it\n",
    "    if not os.path.exists(processed_dir):\n",
    "        os.makedirs(processed_dir)\n",
    "\n",
    "    file_path = os.path.join(\"E:\\\\archive\\\\train\", folder, \"audio.opus\")\n",
    "    \n",
    "    # Load the audio file\n",
    "    try:\n",
    "        y, sr = librosa.load(file_path, sr=None)\n",
    "    except FileNotFoundError:\n",
    "        print(f\"File {file_path} not found.\")\n",
    "        \n",
    "\n",
    "    # Extract MFCC features\n",
    "    mfcc = librosa.feature.mfcc(y=y, sr=sr, n_mfcc=13)\n",
    "    return mfcc\n",
    "\n",
    "\n",
    "mfcc = preprocess_and_save_audio(\"0297cae08327285a8abb3926aa4c1c9d\")\n",
    "\n",
    "mfcc.size\n",
    "\n"
   ]
  },
  {
   "cell_type": "code",
   "execution_count": null,
   "metadata": {},
   "outputs": [],
   "source": [
    "136,296,35353,2,0,L|104:300,6,19.1249994163513,2|0|0|0|0|0|0,1:2|1:0|1:0|1:0|1:0|1:0|1:0,0:0:0:0:\n",
    "\n",
    "136,296,35353,2,0,L|something,19.1249994163513,2,1:2,0:0:0:0:,1\n",
    "104,300,newtime,2,0,L|something:300,6,19.1249994163513,0,1:0,0:0:0:0:,0\n",
    "104,300,newtime,2,0,L|104:something,6,19.1249994163513,0,1:0,0:0:0:0:,0\n"
   ]
  },
  {
   "cell_type": "code",
   "execution_count": 66,
   "metadata": {},
   "outputs": [
    {
     "name": "stdout",
     "output_type": "stream",
     "text": [
      "['144', '136', '155821', '2', '0', 'B|160:140|160:140|180:132|180:132|200:140|200:140|220:132|220:132|236:140|236:140|256:132|256:132|276:140|276:140|292:132|292:132|312:140|312:140|332:132|332:132|352:140|352:140|368:136', '1', '240', '10|0', '0:0|0:0', '0:0:0:0:']\n",
      "['0:0', '0:0']\n",
      "2\n",
      "144,136,155821,2,0,B|144:136,1,10,0:0,0:0:0:0:,0\n",
      "368,136,155821,2,0,B|368:136,1,0,0:0,0:0:0:0:,2\n"
     ]
    }
   ],
   "source": [
    "import math\n",
    "from typing import List, Tuple\n",
    "\n",
    "# # Function to calculate the slider velocity\n",
    "# def calculate_slider_velocity(SliderMultiplier, bpm):\n",
    "#     # Base velocity in osu! is 100 pixels per beat\n",
    "#     base_velocity = SliderMultiplier * 100\n",
    "    \n",
    "#     # Convert bpm to beats per second\n",
    "#     beats_per_second = bpm / 60.0\n",
    "    \n",
    "#     # Calculate velocity in pixels per second\n",
    "#     velocity_per_second = base_velocity * beats_per_second\n",
    "    \n",
    "#     return velocity_per_second\n",
    "\n",
    "# Function to interpolate linear points\n",
    "def interpolate_linear(start, end, t):\n",
    "    return start + t * (end - start)\n",
    "\n",
    "# Function to calculate a point on a quadratic Bezier curve\n",
    "def bezier_point(t, points):\n",
    "    n = len(points) - 1\n",
    "    x = sum(math.comb(n, i) * (1 - t)**(n - i) * t**i * points[i][0] for i in range(n + 1))\n",
    "    y = sum(math.comb(n, i) * (1 - t)**(n - i) * t**i * points[i][1] for i in range(n + 1))\n",
    "    return x, y\n",
    "\n",
    "# Function to split slider into segments\n",
    "def split_slider(slider_data):\n",
    "    # Parse slider_data\n",
    "    parts = slider_data.split(',')\n",
    "    print(parts)\n",
    "    start_point = tuple(map(int, parts[:2]))\n",
    "    slider_type = parts[5][0]\n",
    "    path_data = parts[5][2:]\n",
    "    slider_points = parts[8].split('|')\n",
    "    slider_points_data = parts[9].split('|')\n",
    "    num_points = len(slider_points)\n",
    "    # print(path_data)\n",
    "    path_points = [start_point] + [tuple(map(int, p.split(':'))) for p in path_data.split('|')]\n",
    "    print(slider_points_data)\n",
    "   \n",
    "\n",
    "    # # Calculate slider velocity\n",
    "    # velocity = calculate_slider_velocity(SliderMultiplier,bpm)\n",
    "    # duration = velocity * float(parts[7])\n",
    "    # print(duration)\n",
    "    \n",
    "    # Total time for slider\n",
    "    # duration = float(parts[7])\n",
    "    \n",
    "    # Time increment per segment\n",
    "    # time_increment = duration / num_points\n",
    "\n",
    "    # Initialize new segments list\n",
    "    new_segments = []\n",
    "    \n",
    "    print(num_points)\n",
    "    # Generate new segments based on slider type\n",
    "    if slider_type == 'L':\n",
    "        # Linear interpolation\n",
    "        for i in range(num_points):\n",
    "            t = i / (num_points - 1)\n",
    "            new_x = interpolate_linear(start_point[0], path_points[-1][0], t)\n",
    "            new_y = interpolate_linear(start_point[1], path_points[-1][1], t)\n",
    "            segment = f\"{int(new_x)},{int(new_y)},{int(parts[2])},{parts[3]},{int(parts[4])},L|{int(new_x)}:{int(new_y)},{int(parts[6])},{slider_points[i]},{slider_points_data[i]},{parts[-1]},{0 if i == 0 else 2 if i == num_points - 1 else 1}\"\n",
    "            new_segments.append(segment)\n",
    "\n",
    "    elif slider_type == 'B':\n",
    "        # Bezier curve interpolation\n",
    "        for i in range(num_points):\n",
    "            t = i / (num_points - 1)\n",
    "            new_x, new_y = bezier_point(t, path_points)\n",
    "            segment = f\"{int(new_x)},{int(new_y)},{int(parts[2])},{parts[3]},{int(parts[4])},B|{int(new_x)}:{int(new_y)},{int(parts[6])},{slider_points[i]},{slider_points_data[i]},{parts[-1]},{0 if i == 0 else 2 if i == num_points - 1 else 1}\"\n",
    "            new_segments.append(segment)\n",
    "\n",
    "    # Similar handling for other types ('C', 'P')...\n",
    "    # print(len(new_segments))\n",
    "\n",
    "    return new_segments\n",
    "\n",
    "# Example slider data and split operation\n",
    "slider_data = \"144,136,155821,2,0,B|160:140|160:140|180:132|180:132|200:140|200:140|220:132|220:132|236:140|236:140|256:132|256:132|276:140|276:140|292:132|292:132|312:140|312:140|332:132|332:132|352:140|352:140|368:136,1,240,10|0,0:0|0:0,0:0:0:0:\"\n",
    "# SliderMultiplier = 1.7\n",
    "# bpm = 175.0\n",
    "\n",
    "# Split the slider into segments\n",
    "new_slider_segments = split_slider(slider_data)\n",
    "# Output the new segments\n",
    "for segment in new_slider_segments:\n",
    "    print(segment)\n"
   ]
  },
  {
   "cell_type": "code",
   "execution_count": 68,
   "metadata": {},
   "outputs": [
    {
     "name": "stdout",
     "output_type": "stream",
     "text": [
      "494,86,96039,6,0,P|494:86,1,0,1:0,0:0:0:0:,0\n",
      "367,86,96039,6,0,P|367:86,1,0,0:0,0:0:0:0:,2\n"
     ]
    }
   ],
   "source": [
    "import math\n",
    "from typing import List, Tuple\n",
    "\n",
    "# Function to interpolate linear points\n",
    "def interpolate_linear(start, end, t):\n",
    "    return start + t * (end - start)\n",
    "\n",
    "# Function to calculate a point on a quadratic Bezier curve\n",
    "def bezier_point(t, points):\n",
    "    n = len(points) - 1\n",
    "    x = sum(math.comb(n, i) * (1 - t)**(n - i) * t**i * points[i][0] for i in range(n + 1))\n",
    "    y = sum(math.comb(n, i) * (1 - t)**(n - i) * t**i * points[i][1] for i in range(n + 1))\n",
    "    return x, y\n",
    "\n",
    "# Function to calculate a point on a perfect circle (P slider type)\n",
    "def circle_point(center, radius, angle):\n",
    "    return (\n",
    "        center[0] + radius * math.cos(angle),\n",
    "        center[1] + radius * math.sin(angle)\n",
    "    )\n",
    "\n",
    "# Function to split slider into segments\n",
    "def split_slider(slider_data: str):\n",
    "    # Parse slider_data\n",
    "    parts = slider_data.split(',')\n",
    "    start_point = tuple(map(int, parts[:2]))\n",
    "    slider_type = parts[5][0]\n",
    "    path_data = parts[5][2:]\n",
    "    slider_points = parts[8].split('|')\n",
    "    slider_points_data = parts[9].split('|')\n",
    "    num_points = len(slider_points)\n",
    "\n",
    "    # Calculate path points\n",
    "    path_points = [start_point] + [tuple(map(int, p.split(':'))) for p in path_data.split('|')]\n",
    "\n",
    "    # Initialize new segments list\n",
    "    new_segments = []\n",
    "    \n",
    "    # Generate new segments based on slider type\n",
    "    if slider_type == 'L':\n",
    "        # Linear interpolation\n",
    "        for i in range(num_points):\n",
    "            t = i / (num_points - 1)\n",
    "            new_x = interpolate_linear(start_point[0], path_points[-1][0], t)\n",
    "            new_y = interpolate_linear(start_point[1], path_points[-1][1], t)\n",
    "            segment = f\"{int(new_x)},{int(new_y)},{int(parts[2])},{parts[3]},{int(parts[4])},L|{int(new_x)}:{int(new_y)},{int(parts[6])},{slider_points[i]},{slider_points_data[i]},{parts[-1]},{0 if i == 0 else 2 if i == num_points - 1 else 1}\"\n",
    "            new_segments.append(segment)\n",
    "\n",
    "    elif slider_type == 'B':\n",
    "        # Bezier curve interpolation\n",
    "        for i in range(num_points):\n",
    "            t = i / (num_points - 1)\n",
    "            new_x, new_y = bezier_point(t, path_points)\n",
    "            segment = f\"{int(new_x)},{int(new_y)},{int(parts[2])},{parts[3]},{int(parts[4])},B|{int(new_x)}:{int(new_y)},{int(parts[6])},{slider_points[i]},{slider_points_data[i]},{parts[-1]},{0 if i == 0 else 2 if i == num_points - 1 else 1}\"\n",
    "            new_segments.append(segment)\n",
    "\n",
    "    elif slider_type == 'P':\n",
    "        # Perfect circle interpolation\n",
    "        # Extract center and radius\n",
    "        center = path_points[0]\n",
    "        radius = math.sqrt((path_points[1][0] - center[0])**2 + (path_points[1][1] - center[1])**2)\n",
    "        total_points = num_points\n",
    "        angle_increment = 2 * math.pi / total_points\n",
    "        \n",
    "        for i in range(num_points):\n",
    "            angle = i * angle_increment\n",
    "            new_x, new_y = circle_point(center, radius, angle)\n",
    "            new_time = int(parts[2])  # This should be adjusted based on actual time increments\n",
    "            segment = f\"{int(new_x)},{int(new_y)},{new_time},{parts[3]},{int(parts[4])},P|{int(new_x)}:{int(new_y)},{int(parts[6])},{slider_points[i]},{slider_points_data[i]},{parts[-1]},{0 if i == 0 else 2 if i == num_points - 1 else 1}\"\n",
    "            new_segments.append(segment)\n",
    "\n",
    "    return new_segments\n",
    "\n",
    "# Example slider data and split operation\n",
    "slider_data = \"431,86,96039,6,0,P|406:144|433:238,1,157.500006008148,0|0,1:0|0:0,0:0:0:0:\"\n",
    "\n",
    "# Split the slider into segments\n",
    "new_slider_segments = split_slider(slider_data)\n",
    "# Output the new segments\n",
    "for segment in new_slider_segments:\n",
    "    print(segment)\n"
   ]
  },
  {
   "cell_type": "code",
   "execution_count": 32,
   "metadata": {},
   "outputs": [
    {
     "name": "stdout",
     "output_type": "stream",
     "text": [
      "20000\n",
      "37\n",
      "(13, 37)\n"
     ]
    }
   ],
   "source": [
    "sr = 20000\n",
    "audio_length_sec = 1\n",
    "frame_size = 2000\n",
    "hop_length = 500\n",
    "n_mfcc = 13\n",
    "\n",
    "total_samples = sr * audio_length_sec\n",
    "num_frames = (total_samples - frame_size) // hop_length + 1\n",
    "mfcc_dim = (n_mfcc, num_frames)\n",
    "\n",
    "print(total_samples)\n",
    "# print(22050/100)\n",
    "print(num_frames)\n",
    "# print((4303/1000)*100)\n",
    "print(mfcc_dim)"
   ]
  },
  {
   "cell_type": "code",
   "execution_count": 32,
   "metadata": {},
   "outputs": [
    {
     "name": "stdout",
     "output_type": "stream",
     "text": [
      "342.85714285714283\n",
      "2:28:153\n",
      "1371\n",
      "1371.4285714285713\n"
     ]
    }
   ],
   "source": [
    "sm=2.1\n",
    "sv = 200\n",
    "svm=100/sv\n",
    "beatlen = 60000/175\n",
    "print(beatlen)\n",
    "# svm = 1\n",
    "length = 420\n",
    "# esv = svm * sm\n",
    "# -50 x = 2\n",
    "# x=2/-50=4/-100=-0.\n",
    "# 100/25\n",
    "\n",
    "t = 148153\n",
    "m = t//60000\n",
    "s = (t - (m*60000))\n",
    "ms = s%1000\n",
    "s=s//1000\n",
    "print(f\"{m}:{s}:{ms}\")\n",
    "m=2\n",
    "s=29\n",
    "ms=524\n",
    "timediff = ( m*60000 + s*1000 + ms) - t\n",
    "print(timediff)\n",
    "print(length / (sm * 100 * svm) * beatlen)"
   ]
  },
  {
   "cell_type": "code",
   "execution_count": 72,
   "metadata": {},
   "outputs": [
    {
     "name": "stdout",
     "output_type": "stream",
     "text": [
      "2:34:668\n",
      "171\n",
      "171.42857142857142\n"
     ]
    }
   ],
   "source": [
    "sm=2.1\n",
    "sv = 200\n",
    "svm=100/sv\n",
    "beatlen = 60000/175\n",
    "# print(beatlen)\n",
    "\n",
    "length = 52.5\n",
    "# esv = svm * sm\n",
    "# -50 x = 2\n",
    "# x=2/-50=4/-100=-0.\n",
    "# 100/25\n",
    "\n",
    "t = 154668\n",
    "m = t//60000\n",
    "s = (t - (m*60000))\n",
    "ms = s%1000\n",
    "s=s//1000\n",
    "print(f\"{m}:{s}:{ms}\")\n",
    "m=2\n",
    "s=34\n",
    "ms=839\n",
    "timediff = ( m*60000 + s*1000 + ms) - t\n",
    "print(timediff)\n",
    "\n",
    "\n",
    "calctime = length / (sm * 100 * svm) * beatlen\n",
    "print(calctime*1)"
   ]
  },
  {
   "cell_type": "markdown",
   "metadata": {},
   "source": [
    "# if timing point not there then timingpoint above one is used as same for uninherited also"
   ]
  },
  {
   "cell_type": "code",
   "execution_count": 45,
   "metadata": {},
   "outputs": [
    {
     "name": "stdout",
     "output_type": "stream",
     "text": [
      "342.85714285714283\n",
      "0:45:486\n",
      "104038\n",
      "1371.4285714285713\n"
     ]
    }
   ],
   "source": [
    "sm=2.1\n",
    "sv = 200\n",
    "svm=100/sv\n",
    "beatlen = 60000/175\n",
    "print(beatlen)\n",
    "# svm = 1\n",
    "length = 420\n",
    "# esv = svm * sm\n",
    "# -50 x = 2\n",
    "# x=2/-50=4/-100=-0.\n",
    "# 100/25\n",
    "\n",
    "t = 45486\n",
    "m = t//60000\n",
    "s = (t - (m*60000))\n",
    "ms = s%1000\n",
    "s=s//1000\n",
    "print(f\"{m}:{s}:{ms}\")\n",
    "m=2\n",
    "s=29\n",
    "ms=524\n",
    "timediff = ( m*60000 + s*1000 + ms) - t\n",
    "print(timediff)\n",
    "print(length / (sm * 100 * svm) * beatlen)"
   ]
  },
  {
   "cell_type": "code",
   "execution_count": 37,
   "metadata": {},
   "outputs": [
    {
     "name": "stdout",
     "output_type": "stream",
     "text": [
      "Binary representation: 1100\n",
      "Indices with '1': [2, 3]\n",
      "True\n"
     ]
    }
   ],
   "source": [
    "hit_type = 12\n",
    "# Convert hit_type to a binary string\n",
    "binary_representation = bin(hit_type)[-4:]\n",
    "\n",
    "# Check the last three bits\n",
    "last_three_bits = binary_representation.zfill(3)  # Ensure it's always 3 bits long\n",
    "\n",
    "# Find indices of '1' bits\n",
    "indices_of_ones = [i for i, bit in enumerate(reversed(last_three_bits)) if bit == '1']\n",
    "\n",
    "print(f\"Binary representation: {last_three_bits}\")\n",
    "print(f\"Indices with '1': {indices_of_ones}\")\n",
    "print( 3 in indices_of_ones)"
   ]
  },
  {
   "cell_type": "code",
   "execution_count": 43,
   "metadata": {},
   "outputs": [
    {
     "name": "stdout",
     "output_type": "stream",
     "text": [
      "[0, 0, 0, 0]\n"
     ]
    }
   ],
   "source": [
    "subpart = [0] \n",
    "if len(subpart) < 4:\n",
    "        subpart = subpart + [0]*(4-len(subpart))\n",
    "print(subpart)"
   ]
  }
 ],
 "metadata": {
  "kernelspec": {
   "display_name": "base",
   "language": "python",
   "name": "python3"
  },
  "language_info": {
   "codemirror_mode": {
    "name": "ipython",
    "version": 3
   },
   "file_extension": ".py",
   "mimetype": "text/x-python",
   "name": "python",
   "nbconvert_exporter": "python",
   "pygments_lexer": "ipython3",
   "version": "3.12.4"
  }
 },
 "nbformat": 4,
 "nbformat_minor": 2
}
